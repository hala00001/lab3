{
  "nbformat": 4,
  "nbformat_minor": 0,
  "metadata": {
    "colab": {
      "name": "Untitled11.ipynb",
      "provenance": [],
      "authorship_tag": "ABX9TyOp6e8DdwWD/l3zU3MIuRQw",
      "include_colab_link": true
    },
    "kernelspec": {
      "name": "python3",
      "display_name": "Python 3"
    },
    "language_info": {
      "name": "python"
    }
  },
  "cells": [
    {
      "cell_type": "markdown",
      "metadata": {
        "id": "view-in-github",
        "colab_type": "text"
      },
      "source": [
        "<a href=\"https://colab.research.google.com/github/hala00001/lab3/blob/master/CPU%2CTPU.ipynb\" target=\"_parent\"><img src=\"https://colab.research.google.com/assets/colab-badge.svg\" alt=\"Open In Colab\"/></a>"
      ]
    },
    {
      "cell_type": "code",
      "metadata": {
        "id": "NwgBQGe48r3l"
      },
      "source": [
        "import tensorflow as tf\n",
        "import timeit\n",
        "import warnings\n",
        "warnings.filterwarnings('ignore')\n",
        "\n",
        "tf.get_logger().setLevel('INFO')"
      ],
      "execution_count": null,
      "outputs": []
    },
    {
      "cell_type": "code",
      "metadata": {
        "id": "Dyv8gNt58twz"
      },
      "source": [
        "cpu = tf.config.experimental.list_physical_devices('CPU')[0]\n",
        "print(f'Selected CPU: {cpu}')\n",
        "\n",
        "testcpu = \"\"\"\n",
        "import tensorflow as tf\n",
        "with tf.device('/cpu:0'):\n",
        "  random_image_cpu = tf.random.normal((100, 100, 100, 3))\n",
        "  net_cpu = tf.compat.v1.layers.conv2d(random_image_cpu, 32, 7)\n",
        "  net_cpu = tf.math.reduce_sum(net_cpu)\n",
        "\"\"\"\n",
        "\n",
        "cpu_time = timeit.timeit(testcpu, number=10)\n",
        "\n",
        "print('Time (s) to convolve 32x7x7x3 filter over random 100x100x100x3 images \\n'\n",
        "      f'(batch x height x width x channel). Sum of ten runs: {cpu_time}')"
      ],
      "execution_count": null,
      "outputs": []
    },
    {
      "cell_type": "code",
      "metadata": {
        "id": "GO_P5wba8zhT"
      },
      "source": [
        "cpu = tf.config.experimental.list_physical_devices('CPU')[0]\n",
        "print(f'Selected CPU: {cpu}')\n",
        "\n",
        "testcpu = \"\"\"\n",
        "import tensorflow as tf\n",
        "with tf.device('/cpu:0'):\n",
        "  random_image_cpu = tf.random.normal((100, 100, 100, 3))\n",
        "  net_cpu = tf.compat.v1.layers.conv2d(random_image_cpu, 32, 7)\n",
        "  net_cpu = tf.math.reduce_sum(net_cpu)\n",
        "\"\"\"\n",
        "\n",
        "cpu_time = timeit.timeit(testcpu, number=10)\n",
        "\n",
        "print('Time (s) to convolve 32x7x7x3 filter over random 100x100x100x3 images \\n'\n",
        "      f'(batch x height x width x channel). Sum of ten runs: {cpu_time}')"
      ],
      "execution_count": null,
      "outputs": []
    },
    {
      "cell_type": "code",
      "metadata": {
        "id": "Qmjfhxar88s-"
      },
      "source": [
        "try:\n",
        "  tpu = tf.distribute.cluster_resolver.TPUClusterResolver()\n",
        "  print('Running on TPU ', tpu.cluster_spec().as_dict()['worker'])\n",
        "except ValueError:\n",
        "  raise BaseException('ERROR: Not connected to a TPU runtime; '\n",
        "  'please see the previous cell in this notebook for instructions!')\n",
        "\n",
        " \n",
        "testtpu = \"\"\"\n",
        "import tensorflow as tf\n",
        "with tf.device('/device:XLA_CPU:0'):\n",
        "  random_image_tpu = tf.random.normal((100, 100, 100, 3))\n",
        "  net_tpu = tf.compat.v1.layers.conv2d(random_image_tpu, 32, 7)\n",
        "  net_tpu = tf.math.reduce_sum(net_tpu)\n",
        "\"\"\"\n",
        " \n",
        "tpu_time = timeit.timeit(testtpu, number=10)\n",
        "\n",
        "print('Time (s) to convolve 32x7x7x3 filter over random 100x100x100x3 images '\n",
        "      f'(batch x height x width x channel). Sum of ten runs. {tpu_time}')\n",
        "\n",
        "print(f'TPU speedup over CPU: {int(cpu_time/tpu_time)}x')"
      ],
      "execution_count": null,
      "outputs": []
    }
  ]
}