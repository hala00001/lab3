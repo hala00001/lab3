{
  "nbformat": 4,
  "nbformat_minor": 0,
  "metadata": {
    "colab": {
      "name": "Untitled9.ipynb",
      "provenance": [],
      "authorship_tag": "ABX9TyM/Ri5tbgkeJDJguUXAQRjR",
      "include_colab_link": true
    },
    "kernelspec": {
      "name": "python3",
      "display_name": "Python 3"
    },
    "language_info": {
      "name": "python"
    }
  },
  "cells": [
    {
      "cell_type": "markdown",
      "metadata": {
        "id": "view-in-github",
        "colab_type": "text"
      },
      "source": [
        "<a href=\"https://colab.research.google.com/github/hala00001/lab3/blob/master/CPU.ipynb\" target=\"_parent\"><img src=\"https://colab.research.google.com/assets/colab-badge.svg\" alt=\"Open In Colab\"/></a>"
      ]
    },
    {
      "cell_type": "code",
      "metadata": {
        "colab": {
          "base_uri": "https://localhost:8080/"
        },
        "id": "NJwK7RDW4v57",
        "outputId": "24a5d9e7-718d-4bf3-f0e4-c3734801b977"
      },
      "source": [
        "import tensorflow as tf\n",
        "import timeit\n",
        "import warnings\n",
        "warnings.filterwarnings('ignore')\n",
        "\n",
        "tf.get_logger().setLevel('INFO')\n",
        "cpu = tf.config.experimental.list_physical_devices('CPU')[0]\n",
        "print(f'Selected CPU: {cpu}')\n",
        "\n",
        "testcpu = \"\"\"\n",
        "import tensorflow as tf\n",
        "with tf.device('/cpu:0'):\n",
        "  random_image_cpu = tf.random.normal((100, 100, 100, 3))\n",
        "  net_cpu = tf.compat.v1.layers.conv2d(random_image_cpu, 32, 7)\n",
        "  net_cpu = tf.math.reduce_sum(net_cpu)\n",
        "\"\"\"\n",
        "\n",
        "cpu_time = timeit.timeit(testcpu, number=10)\n",
        "\n",
        "print('Time (s) to convolve 32x7x7x3 filter over random 100x100x100x3 images \\n'\n",
        "      f'(batch x height x width x channel). Sum of ten runs: {cpu_time}')"
      ],
      "execution_count": 1,
      "outputs": [
        {
          "output_type": "stream",
          "text": [
            "Selected CPU: PhysicalDevice(name='/physical_device:CPU:0', device_type='CPU')\n",
            "Time (s) to convolve 32x7x7x3 filter over random 100x100x100x3 images \n",
            "(batch x height x width x channel). Sum of ten runs: 3.749454070000013\n"
          ],
          "name": "stdout"
        }
      ]
    }
  ]
}